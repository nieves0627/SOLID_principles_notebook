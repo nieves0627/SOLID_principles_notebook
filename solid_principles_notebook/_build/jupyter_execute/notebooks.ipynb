{
 "cells": [
  {
   "cell_type": "markdown",
   "metadata": {},
   "source": [
    "# Introduction to SOLID principles\n",
    "\n",
    "Created by: Juliana Alejandra Gutierrez Castro\n",
    "Created time: July 30, 2024 7:42 PM\n",
    "\n",
    "# **SOLID Principles: Improve Object-Oriented Design in Python**\n",
    "\n",
    "When you build a Python project using **object-oriented programming (OOP)**, planning how the different classes and objects will interact to solve your specific problems is an important part of the job. This planning is known as [object-oriented design (OOD)](https://en.wikipedia.org/wiki/Object-oriented_design), and getting it right can be a challenge. If you’re stuck while designing your Python classes, then the **SOLID principles** can help you out.\n",
    "SOLID is a set of five object-oriented design principles that can help you write more maintainable, flexible, and scalable code based on well-designed, cleanly structured classes. \n",
    "\n",
    "**Object-Oriented Design in Python: The SOLID Principles**\n",
    "\n",
    "1. [**S**ingle-responsibility principle (SRP)](https://en.wikipedia.org/wiki/Single-responsibility_principle)\n",
    "2. [**O**pen–closed principle (OCP)](https://en.wikipedia.org/wiki/Open%E2%80%93closed_principle)\n",
    "3. [**L**iskov substitution principle (LSP)](https://en.wikipedia.org/wiki/Liskov_substitution_principle)\n",
    "4. [**I**nterface segregation principle (ISP)](https://en.wikipedia.org/wiki/Interface_segregation_principle)\n",
    "5. [**D**ependency inversion principle (DIP)](https://en.wikipedia.org/wiki/Dependency_inversion_principle)\n",
    "\n",
    "## 1. **Single-Responsibility Principle (SRP)**\n",
    "\n",
    "The single-responsibility principle states that:\n",
    "\n",
    "> A class should have only one reason to change.\n",
    "> \n",
    "\n",
    "This means that a class should have only one **responsibility**, as expressed through its methods. If a class takes care of more than one task, then you should separate those tasks into separate classes.\n",
    "\n",
    "This principle is closely related to the concept of [separation of concerns](https://en.wikipedia.org/wiki/Separation_of_concerns), which suggests that you should split your programs into different sections. Each section must address a separate concern.\n",
    "\n",
    "To illustrate the single-responsibility principle and how it can help you improve your object-oriented design, say that you have the following `FileManager` class:\n",
    "\n"
   ]
  },
  {
   "cell_type": "code",
   "execution_count": 1,
   "metadata": {
    "tags": []
   },
   "outputs": [],
   "source": [
    "# file_manager_srp.py\n",
    "\n",
    "from pathlib import Path\n",
    "from zipfile import ZipFile\n",
    "\n",
    "class FileManager:\n",
    "    def __init__(self, filename):\n",
    "        self.path = Path(filename)\n",
    "\n",
    "    def read(self, encoding=\"utf-8\"):\n",
    "        return self.path.read_text(encoding)\n",
    "\n",
    "    def write(self, data, encoding=\"utf-8\"):\n",
    "        self.path.write_text(data, encoding)\n",
    "\n",
    "    def compress(self):\n",
    "        with ZipFile(self.path.with_suffix(\".zip\"), mode=\"w\") as archive:\n",
    "            archive.write(self.path)\n",
    "\n",
    "    def decompress(self):\n",
    "        with ZipFile(self.path.with_suffix(\".zip\"), mode=\"r\") as archive:\n",
    "            archive.extractall()\n"
   ]
  },
  {
   "cell_type": "markdown",
   "metadata": {},
   "source": [
    "\n",
    "<aside>\n",
    "💡 1.  **What does path.read_text() method do?**\n",
    "\n",
    "- It opens the file specified by the path in text mode.\n",
    "- It reads the entire contents of the file as a string.\n",
    "- It automatically closes the file after reading.\n",
    "\n",
    "**This method is a convenient way to read the full contents of a text file in a single line of code. It's equivalent to opening a file, reading all its contents, and then closing it, but more concise.**\n",
    "\n",
    "1. **What does path.with_suffix() method do?**\n",
    "- Return a new path with the [`suffix`](https://docs.python.org/3/library/pathlib.html#pathlib.PurePath.suffix) changed. If the original path doesn’t have a suffix, the new *suffix* is appended instead. If the *suffix* is an empty string, the original suffix is removed.\n",
    "</aside>\n",
    "\n",
    "In this example, your `FileManager` class has two different responsibilities. It uses the `.read()` and `.write()` methods to manage the file. It also deals with [ZIP archives](https://realpython.com/python-zipfile/) by providing the `.compress()` and `.decompress()` methods.\n",
    "\n",
    "This class violates the single-responsibility principle because it has two reasons for changing its internal implementation. To fix this issue and make your design more robust, you can split the class into two smaller, more focused classes, each with its own specific concern:\n",
    "\n"
   ]
  },
  {
   "cell_type": "code",
   "execution_count": 2,
   "metadata": {
    "tags": []
   },
   "outputs": [],
   "source": [
    "# file_manager_srp.py\n",
    "\n",
    "from pathlib import Path\n",
    "from zipfile import ZipFile\n",
    "\n",
    "class FileManager:\n",
    "    def __init__(self, filename):\n",
    "        self.path = Path(filename)\n",
    "\n",
    "    def read(self, encoding=\"utf-8\"):\n",
    "        return self.path.read_text(encoding)\n",
    "\n",
    "    def write(self, data, encoding=\"utf-8\"):\n",
    "        self.path.write_text(data, encoding)\n",
    "\n",
    "class ZipFileManager:\n",
    "    def __init__(self, filename):\n",
    "        self.path = Path(filename)\n",
    "\n",
    "    def compress(self):\n",
    "        with ZipFile(self.path.with_suffix(\".zip\"), mode=\"w\") as archive:\n",
    "            archive.write(self.path)\n",
    "\n",
    "    def decompress(self):\n",
    "        with ZipFile(self.path.with_suffix(\".zip\"), mode=\"r\") as archive:\n",
    "            archive.extractall()\n"
   ]
  },
  {
   "cell_type": "markdown",
   "metadata": {},
   "source": [
    "\n",
    "Now you have two smaller classes, each having only a single responsibility. `FileManager` takes care of managing a file, while `ZipFileManager` handles the [compression](https://realpython.com/python-zipfile/#compressing-files-and-directories) and [decompression](https://realpython.com/python-zipfile/#extracting-member-files-from-your-zip-archives) of a file using the ZIP format. These two classes are smaller, so they’re more manageable. They’re also easier to reason about, test, and debug.\n",
    "\n",
    "<aside>\n",
    "💡 The concept of responsibility in this context may be pretty subjective. Having a single responsibility doesn’t necessarily mean having a single method. Responsibility isn’t directly tied to the number of methods but **to the core task that your class is responsible for**, **depending on your idea of what the class represents in your code**. However, that subjectivity shouldn’t stop you from striving to use the SRP.\n",
    "\n",
    "</aside>\n",
    "\n",
    "## **2. Open-Closed Principle (OCP)**\n",
    "\n",
    "> Software entities (classes, modules, functions, etc.) should be open for extension, but closed for modification.\n",
    "> \n",
    "\n",
    "To understand what the open-closed principle is all about, consider the following `Shape` class:\n",
    "\n"
   ]
  },
  {
   "cell_type": "code",
   "execution_count": 3,
   "metadata": {
    "tags": []
   },
   "outputs": [],
   "source": [
    "# shapes_ocp.py\n",
    "\n",
    "from math import pi\n",
    "\n",
    "class Shape:\n",
    "    def __init__(self, shape_type, **kwargs):\n",
    "        self.shape_type = shape_type\n",
    "        if self.shape_type == \"rectangle\":\n",
    "            self.width = kwargs[\"width\"]\n",
    "            self.height = kwargs[\"height\"]\n",
    "        elif self.shape_type == \"circle\":\n",
    "            self.radius = kwargs[\"radius\"]\n",
    "\n",
    "    def calculate_area(self):\n",
    "        if self.shape_type == \"rectangle\":\n",
    "            return self.width * self.height\n",
    "        elif self.shape_type == \"circle\":\n",
    "            return pi * self.radius**2\n"
   ]
  },
  {
   "cell_type": "markdown",
   "metadata": {},
   "source": [
    "\n",
    "The initializer of `Shape` takes a `shape_type` argument that can be either `\"rectangle\"` or `\"circle\"`. It also takes a specific set of keyword arguments using the [`**kwargs`](https://realpython.com/python-kwargs-and-args/) syntax. If you set the shape type to `\"rectangle\"`, then you should also pass the `width` and `height` keyword arguments so that you can construct a proper rectangle.\n",
    "\n",
    "In contrast, if you set the shape type to `\"circle\"`, then you must also pass a `radius` argument to construct a circle.\n",
    "\n",
    "`Shape` also has a `.calculate_area()` method that computes the area of the current shape according to its `.shape_type`:\n",
    "\n"
   ]
  },
  {
   "cell_type": "code",
   "execution_count": 4,
   "metadata": {
    "tags": []
   },
   "outputs": [
    {
     "ename": "ModuleNotFoundError",
     "evalue": "No module named 'shapes_ocp'",
     "output_type": "error",
     "traceback": [
      "\u001b[1;31m---------------------------------------------------------------------------\u001b[0m",
      "\u001b[1;31mModuleNotFoundError\u001b[0m                       Traceback (most recent call last)",
      "Cell \u001b[1;32mIn[4], line 1\u001b[0m\n\u001b[1;32m----> 1\u001b[0m \u001b[38;5;28;01mfrom\u001b[39;00m \u001b[38;5;21;01mshapes_ocp\u001b[39;00m \u001b[38;5;28;01mimport\u001b[39;00m Shape\n\u001b[0;32m      3\u001b[0m rectangle \u001b[38;5;241m=\u001b[39m Shape(\u001b[38;5;124m\"\u001b[39m\u001b[38;5;124mrectangle\u001b[39m\u001b[38;5;124m\"\u001b[39m, width\u001b[38;5;241m=\u001b[39m\u001b[38;5;241m10\u001b[39m, height\u001b[38;5;241m=\u001b[39m\u001b[38;5;241m5\u001b[39m)\n\u001b[0;32m      4\u001b[0m rectangle\u001b[38;5;241m.\u001b[39mcalculate_area()\n",
      "\u001b[1;31mModuleNotFoundError\u001b[0m: No module named 'shapes_ocp'"
     ]
    }
   ],
   "source": [
    ">>> from shapes_ocp import Shape\n",
    "\n",
    ">>> rectangle = Shape(\"rectangle\", width=10, height=5)\n",
    ">>> rectangle.calculate_area()\n",
    "50\n",
    ">>> circle = Shape(\"circle\", radius=5)\n",
    ">>> circle.calculate_area()\n",
    "78.53981633974483\n"
   ]
  },
  {
   "cell_type": "markdown",
   "metadata": {},
   "source": [
    "\n",
    "The class works. You can create circles and rectangles, compute their area, and so on. However, the class looks pretty bad. Something seems wrong with it at first sight.\n",
    "\n",
    "Imagine that you need to add a new shape, maybe a square. How would you do that? Well, the option here is to add another `elif` clause to [`.__init__()`](https://realpython.com/python-class-constructor/#object-initialization-with-__init__) and to `.calculate_area()` so that you can address the requirements of a square shape.\n",
    "\n",
    "Having to make these changes to create new shapes means that your class is open to modification. That violates the open-closed principle. How can you fix your class to make it **open to extension but closed to modification**? Here’s a possible solution:\n",
    "\n"
   ]
  },
  {
   "cell_type": "code",
   "execution_count": 6,
   "metadata": {
    "tags": []
   },
   "outputs": [],
   "source": [
    "# shapes_ocp.py\n",
    "\n",
    "from abc import ABC, abstractmethod\n",
    "from math import pi\n",
    "\n",
    "class Shape(ABC):\n",
    "    def __init__(self, shape_type):\n",
    "        self.shape_type = shape_type\n",
    "\n",
    "    @abstractmethod\n",
    "    def calculate_area(self):\n",
    "        pass\n",
    "\n",
    "class Circle(Shape):\n",
    "    def __init__(self, radius):\n",
    "        super().__init__(\"circle\")\n",
    "        self.radius = radius\n",
    "\n",
    "    def calculate_area(self):\n",
    "        return pi * self.radius**2\n",
    "\n",
    "class Rectangle(Shape):\n",
    "    def __init__(self, width, height):\n",
    "        super().__init__(\"rectangle\")\n",
    "        self.width = width\n",
    "        self.height = height\n",
    "\n",
    "    def calculate_area(self):\n",
    "        return self.width * self.height\n",
    "\n",
    "class Square(Shape):\n",
    "    def __init__(self, side):\n",
    "        super().__init__(\"square\")\n",
    "        self.side = side\n",
    "\n",
    "    def calculate_area(self):\n",
    "        return self.side**2\n"
   ]
  },
  {
   "cell_type": "markdown",
   "metadata": {},
   "source": [
    "\n",
    "In this code, you completely [refactored](https://realpython.com/python-refactoring/) the `Shape` class, turning it into an [abstract base class (ABC)](https://realpython.com/python-classes/#creating-abstract-base-classes-abc-and-interfaces). This class provides the required [interface (API)](https://en.wikipedia.org/wiki/API) for any shape that you’d like to define. That [interface](https://realpython.com/python-interface/) consists of a `.shape_type` attribute and a `.calculate_area()` method that you must override in all the subclasses.\n",
    "\n",
    "<aside>\n",
    "💡 **Note:** The example above and some examples in the next sections use Python’s ABCs to provide what’s called **interface inheritance**. In this type of inheritance, subclasses inherit interfaces rather than functionality. In contrast, when classes inherit functionality, then you’re presented with **implementation inheritance**.\n",
    "\n",
    "</aside>\n",
    "\n",
    "This update closes the class to modifications. Now you can add new shapes to your class design without the need to modify `Shape`. In every case, you’ll have to implement the required interface, which also makes your classes [polymorphic](https://realpython.com/python-classes/#unlocking-polymorphism-with-common-interfaces).\n",
    "\n",
    "## **3. Liskov Substitution Principle (LSP)**\n",
    "\n",
    "> Subtypes must be substitutable for their base types.\n",
    "> \n",
    "\n",
    "For example, if you have a piece of code that works with a `Shape` class, then you should be able to substitute that class with any of its subclasses, such as `Circle` or `Rectangle`, without breaking the code.\n",
    "\n",
    "In practice, this principle is about making your subclasses behave like their base classes without breaking anyone’s expectations when they call the same methods. To continue with shape-related examples, say you have a `Rectangle` class like the following:\n",
    "\n"
   ]
  },
  {
   "cell_type": "code",
   "execution_count": 7,
   "metadata": {
    "tags": []
   },
   "outputs": [],
   "source": [
    "# shapes_lsp.py\n",
    "\n",
    "class Rectangle:\n",
    "    def __init__(self, width, height):\n",
    "        self.width = width\n",
    "        self.height = height\n",
    "\n",
    "    def calculate_area(self):\n",
    "        return self.width * self.height\n"
   ]
  },
  {
   "cell_type": "markdown",
   "metadata": {},
   "source": [
    "\n",
    "In `Rectangle`, you’ve provided the `.calculate_area()` method, which operates with the `.width` and `.height` [instance attributes](https://realpython.com/python-classes/#instance-attributes).\n",
    "\n",
    "Because a square is a special case of a rectangle with equal sides, you think of deriving a `Square` class from `Rectangle` in order to reuse the code. Then, you override the [setter](https://realpython.com/python-getter-setter/) method for the `.width` and `.height` attributes so that when one side changes, the other side also changes:\n",
    "\n"
   ]
  },
  {
   "cell_type": "code",
   "execution_count": 8,
   "metadata": {
    "tags": []
   },
   "outputs": [],
   "source": [
    "# shapes_lsp.py\n",
    "\n",
    "# ...\n",
    "\n",
    "class Square(Rectangle):\n",
    "    def __init__(self, side):\n",
    "        super().__init__(side, side)\n",
    "\n",
    "    def __setattr__(self, key, value):\n",
    "        super().__setattr__(key, value)\n",
    "        if key in (\"width\", \"height\"):\n",
    "            self.__dict__[\"width\"] = value\n",
    "            self.__dict__[\"height\"] = value\n"
   ]
  },
  {
   "cell_type": "markdown",
   "metadata": {},
   "source": [
    "\n",
    "In this snippet of code, you’ve defined `Square` as a subclass of `Rectangle`. As a user might expect, the class [constructor](https://realpython.com/python-class-constructor/) takes only the side of the square as an argument. Internally, the `.__init__()` method initializes the parent’s attributes, `.width` and `.height`, with the `side` argument.\n",
    "\n",
    "You’ve also defined a [special method](https://realpython.com/python-classes/#special-methods-and-protocols), [`.__setattr__()`](https://realpython.com/python-getter-setter/#the-__setattr__-and-__getattr__-methods), to hook into Python’s attribute-setting mechanism and intercept the [assignment](https://realpython.com/python-assignment-operator/) of a new value to either the `.width` or `.height` attribute. Specifically, when you set one of those attributes, the other attribute is also set to the same value:\n",
    "\n"
   ]
  },
  {
   "cell_type": "code",
   "execution_count": 9,
   "metadata": {
    "tags": []
   },
   "outputs": [
    {
     "ename": "ModuleNotFoundError",
     "evalue": "No module named 'shapes_lsp'",
     "output_type": "error",
     "traceback": [
      "\u001b[0;31m---------------------------------------------------------------------------\u001b[0m",
      "\u001b[0;31mModuleNotFoundError\u001b[0m                       Traceback (most recent call last)",
      "Cell \u001b[0;32mIn[9], line 1\u001b[0m\n\u001b[0;32m----> 1\u001b[0m \u001b[38;5;28;01mfrom\u001b[39;00m \u001b[38;5;21;01mshapes_lsp\u001b[39;00m \u001b[38;5;28;01mimport\u001b[39;00m Square\n\u001b[1;32m      3\u001b[0m square \u001b[38;5;241m=\u001b[39m Square(\u001b[38;5;241m5\u001b[39m)\n\u001b[1;32m      4\u001b[0m \u001b[38;5;28mvars\u001b[39m(square)\n",
      "\u001b[0;31mModuleNotFoundError\u001b[0m: No module named 'shapes_lsp'"
     ]
    }
   ],
   "source": [
    ">>> from shapes_lsp import Square\n",
    "\n",
    ">>> square = Square(5)\n",
    ">>> vars(square)\n",
    "{'width': 5, 'height': 5}\n",
    "\n",
    ">>> square.width = 7\n",
    ">>> vars(square)\n",
    "{'width': 7, 'height': 7}\n",
    "\n",
    ">>> square.height = 9\n",
    ">>> vars(square)\n",
    "{'width': 9, 'height': 9}\n"
   ]
  },
  {
   "cell_type": "markdown",
   "metadata": {},
   "source": [
    "\n",
    "Now you’ve ensured that the `Square` object always remains a valid square, making your life easier for the small price of a bit of wasted memory. Unfortunately, this violates the Liskov substitution principle because you can’t replace instances of `Rectangle` with their `Square` counterparts.\n",
    "\n",
    "When someone expects a rectangle object in their code, they might assume that it’ll behave like one by exposing two independent `.width` and `.height` attributes. Meanwhile, your `Square` class breaks that assumption by changing the behavior promised by the object’s interface. That could have surprising and unwanted consequences, which would likely be hard to [debug](https://realpython.com/python-debugging-pdb/).\n",
    "\n",
    "While a square is a specific type of rectangle in mathematics, the classes that represent those shapes shouldn’t be in a parent-child relationship if you want them to comply with the Liskov substitution principle. One way to solve this problem is to create a base class for both `Rectangle` and `Square` to extend:\n",
    "\n"
   ]
  },
  {
   "cell_type": "code",
   "execution_count": 10,
   "metadata": {
    "tags": []
   },
   "outputs": [],
   "source": [
    "# shapes_lsp.py\n",
    "\n",
    "from abc import ABC, abstractmethod\n",
    "\n",
    "class Shape(ABC):\n",
    "    @abstractmethod\n",
    "    def calculate_area(self):\n",
    "        pass\n",
    "\n",
    "class Rectangle(Shape):\n",
    "    def __init__(self, width, height):\n",
    "        self.width = width\n",
    "        self.height = height\n",
    "\n",
    "    def calculate_area(self):\n",
    "        return self.width * self.height\n",
    "\n",
    "class Square(Shape):\n",
    "    def __init__(self, side):\n",
    "        self.side = side\n",
    "\n",
    "    def calculate_area(self):\n",
    "        return self.side ** 2\n"
   ]
  },
  {
   "cell_type": "markdown",
   "metadata": {},
   "source": [
    "\n",
    "`Shape` becomes the type that you can substitute through **polymorphism** with either `Rectangle` or `Square`, which are now siblings rather than a parent and a child. Notice that both concrete shape types have distinct sets of attributes, different initializer methods, and could potentially implement even more separate behaviors. The only thing that they have in common is the ability to calculate their area.\n",
    "\n",
    "With this implementation in place, you can use the `Shape` type interchangeably with its `Square` and `Rectangle` subtypes when you only care about their common behavior:\n",
    "\n"
   ]
  },
  {
   "cell_type": "code",
   "execution_count": 11,
   "metadata": {
    "tags": []
   },
   "outputs": [
    {
     "ename": "ModuleNotFoundError",
     "evalue": "No module named 'shapes_lsp'",
     "output_type": "error",
     "traceback": [
      "\u001b[0;31m---------------------------------------------------------------------------\u001b[0m",
      "\u001b[0;31mModuleNotFoundError\u001b[0m                       Traceback (most recent call last)",
      "Cell \u001b[0;32mIn[11], line 1\u001b[0m\n\u001b[0;32m----> 1\u001b[0m \u001b[38;5;28;01mfrom\u001b[39;00m \u001b[38;5;21;01mshapes_lsp\u001b[39;00m \u001b[38;5;28;01mimport\u001b[39;00m Rectangle, Square\n\u001b[1;32m      3\u001b[0m \u001b[38;5;28;01mdef\u001b[39;00m \u001b[38;5;21mget_total_area\u001b[39m(shapes):\n\u001b[1;32m      4\u001b[0m     \u001b[38;5;28;01mreturn\u001b[39;00m \u001b[38;5;28msum\u001b[39m(shape\u001b[38;5;241m.\u001b[39mcalculate_area() \u001b[38;5;28;01mfor\u001b[39;00m shape \u001b[38;5;129;01min\u001b[39;00m shapes)\n",
      "\u001b[0;31mModuleNotFoundError\u001b[0m: No module named 'shapes_lsp'"
     ]
    }
   ],
   "source": [
    ">>> from shapes_lsp import Rectangle, Square\n",
    "\n",
    ">>> def get_total_area(shapes):\n",
    "...     return sum(shape.calculate_area() for shape in shapes)\n",
    "\n",
    ">>> get_total_area([Rectangle(10, 5), Square(5)])\n",
    "75\n"
   ]
  },
  {
   "cell_type": "markdown",
   "metadata": {},
   "source": [
    "\n",
    "Here, you pass a pair consisting of a rectangle and a square into a function that calculates their total area. Because the function only cares about the `.calculate_area()` method, it doesn’t matter that the shapes are different. This is the essence of the Liskov substitution principle.\n",
    "\n",
    "## **4. Interface Segregation Principle (ISP)**\n",
    "\n",
    "> Clients should not be forced to depend upon methods that they do not use. Interfaces belong to clients, not to hierarchies.\n",
    "> \n",
    "\n",
    "In this case, *clients* are classes and subclasses, and *interfaces* consist of methods and attributes. In other words, **if a class doesn’t use particular methods or attributes, then those methods and attributes should be segregated into more specific classes.**\n",
    "\n",
    "Consider the following example of class [hierarchy](https://realpython.com/python-classes/#class-hierarchies) to model printing machines:\n",
    "\n"
   ]
  },
  {
   "cell_type": "code",
   "execution_count": 12,
   "metadata": {
    "tags": []
   },
   "outputs": [],
   "source": [
    "# printers_isp.py\n",
    "\n",
    "from abc import ABC, abstractmethod\n",
    "\n",
    "class Printer(ABC):\n",
    "    @abstractmethod\n",
    "    def print(self, document):\n",
    "        pass\n",
    "\n",
    "    @abstractmethod\n",
    "    def fax(self, document):\n",
    "        pass\n",
    "\n",
    "    @abstractmethod\n",
    "    def scan(self, document):\n",
    "        pass\n",
    "\n",
    "class OldPrinter(Printer):\n",
    "    def print(self, document):\n",
    "        print(f\"Printing {document} in black and white...\")\n",
    "\n",
    "    def fax(self, document):\n",
    "        raise NotImplementedError(\"Fax functionality not supported\")\n",
    "\n",
    "    def scan(self, document):\n",
    "        raise NotImplementedError(\"Scan functionality not supported\")\n",
    "\n",
    "class ModernPrinter(Printer):\n",
    "    def print(self, document):\n",
    "        print(f\"Printing {document} in color...\")\n",
    "\n",
    "    def fax(self, document):\n",
    "        print(f\"Faxing {document}...\")\n",
    "\n",
    "    def scan(self, document):\n",
    "        print(f\"Scanning {document}...\")\n"
   ]
  },
  {
   "cell_type": "markdown",
   "metadata": {},
   "source": [
    "\n",
    "In this example, the base class, `Printer`, provides the interface that its subclasses must implement. `OldPrinter` inherits from `Printer` and must implement the same interface. However, `OldPrinter` doesn’t use the `.fax()` and `.scan()` methods because this type of printer doesn’t support these functionalities.\n",
    "\n",
    "**This implementation violates the ISP because it forces `OldPrinter` to expose an interface that the class doesn’t implement or need.** To fix this issue, you should separate the interfaces into smaller and more specific classes. Then you can create concrete classes by inheriting from multiple interface classes as needed:\n",
    "\n"
   ]
  },
  {
   "cell_type": "code",
   "execution_count": 13,
   "metadata": {
    "tags": []
   },
   "outputs": [],
   "source": [
    "# printers_isp.py\n",
    "\n",
    "from abc import ABC, abstractmethod\n",
    "\n",
    "class Printer(ABC):\n",
    "    @abstractmethod\n",
    "    def print(self, document):\n",
    "        pass\n",
    "\n",
    "class Fax(ABC):\n",
    "    @abstractmethod\n",
    "    def fax(self, document):\n",
    "        pass\n",
    "\n",
    "class Scanner(ABC):\n",
    "    @abstractmethod\n",
    "    def scan(self, document):\n",
    "        pass\n",
    "\n",
    "class OldPrinter(Printer):\n",
    "    def print(self, document):\n",
    "        print(f\"Printing {document} in black and white...\")\n",
    "\n",
    "class NewPrinter(Printer, Fax, Scanner):\n",
    "    def print(self, document):\n",
    "        print(f\"Printing {document} in color...\")\n",
    "\n",
    "    def fax(self, document):\n",
    "        print(f\"Faxing {document}...\")\n",
    "\n",
    "    def scan(self, document):\n",
    "        print(f\"Scanning {document}...\")\n"
   ]
  },
  {
   "cell_type": "markdown",
   "metadata": {},
   "source": [
    "\n",
    "Now `Printer`, `Fax`, and `Scanner` are base classes that provide specific interfaces with a single responsibility each. **To create `OldPrinter`, you only inherit the `Printer` interface. This way, the class won’t have unused methods.** To create the `ModernPrinter` class, you need to inherit from all the interfaces. In short, **you’ve segregated the `Printer` interface.**\n",
    "\n",
    "This class design allows you to create different machines with different sets of functionalities, making your design more flexible and extensible.\n",
    "\n",
    "## **5. Dependency Inversion Principle (DIP)**\n",
    "\n",
    "> Abstractions should not depend upon details. Details should depend upon abstractions.\n",
    "> \n",
    "\n",
    "That sounds pretty complex. Here’s an example that will help to clarify it. Say you’re building an application and have a `FrontEnd` class to display data to the users in a friendly way. The app currently gets its data from a database, so you end up with the following code:\n",
    "\n"
   ]
  },
  {
   "cell_type": "code",
   "execution_count": 14,
   "metadata": {
    "tags": []
   },
   "outputs": [],
   "source": [
    "# app_dip.py\n",
    "\n",
    "class FrontEnd:\n",
    "    def __init__(self, back_end):\n",
    "        self.back_end = back_end\n",
    "\n",
    "    def display_data(self):\n",
    "        data = self.back_end.get_data_from_database()\n",
    "        print(\"Display data:\", data)\n",
    "\n",
    "class BackEnd:\n",
    "    def get_data_from_database(self):\n",
    "        return \"Data from the database\"\n"
   ]
  },
  {
   "cell_type": "markdown",
   "metadata": {},
   "source": [
    "\n",
    "In this example, the `FrontEnd` class depends on the `BackEnd` class and its concrete implementation. You can say that both classes are tightly coupled. This coupling can lead to scalability issues. For example, say that your app is growing fast, and you want the app to be able to read data from a [REST API](https://realpython.com/api-integration-in-python/). How would you do that?\n",
    "\n",
    "You may think of adding a new method to `BackEnd` to retrieve the data from the REST API. However, that will also require you to modify `FrontEnd`, which should be closed to modification, according to the [open-closed principle](https://realpython.com/solid-principles-python/#open-closed-principle-ocp).\n",
    "\n",
    "To fix the issue, you can apply the dependency inversion principle and make your classes depend on abstractions rather than on concrete implementations like `BackEnd`. In this specific example, you can introduce a `DataSource` class that provides the interface to use in your concrete classes:\n",
    "\n"
   ]
  },
  {
   "cell_type": "code",
   "execution_count": 15,
   "metadata": {
    "tags": []
   },
   "outputs": [],
   "source": [
    "# app_dip.py\n",
    "\n",
    "from abc import ABC, abstractmethod\n",
    "\n",
    "class FrontEnd:\n",
    "    def __init__(self, data_source):\n",
    "        self.data_source = data_source\n",
    "\n",
    "    def display_data(self):\n",
    "        data = self.data_source.get_data()\n",
    "        print(\"Display data:\", data)\n",
    "\n",
    "class DataSource(ABC):\n",
    "    @abstractmethod\n",
    "    def get_data(self):\n",
    "        pass\n",
    "\n",
    "class Database(DataSource):\n",
    "    def get_data(self):\n",
    "        return \"Data from the database\"\n",
    "\n",
    "class API(DataSource):\n",
    "    def get_data(self):\n",
    "        return \"Data from the API\"\n"
   ]
  },
  {
   "cell_type": "markdown",
   "metadata": {},
   "source": [
    "\n",
    "In this redesign of your classes, you’ve added a `DataSource` class as an abstraction that provides the required interface, or the `.get_data()` method. Note how `FrontEnd` now depends on the interface provided by `DataSource`, which is an abstraction.\n",
    "\n",
    "Then you define the `Database` class, which is a concrete implementation for those cases where you want to retrieve the data from your database. This class depends on the `DataSource` abstraction through inheritance. Finally, you define the `API` class to support retrieving the data from the REST API. This class also depends on the `DataSource` abstraction.\n",
    "\n",
    "Here’s how you can use the `FrontEnd` class in your code:\n",
    "\n"
   ]
  },
  {
   "cell_type": "code",
   "execution_count": 16,
   "metadata": {
    "tags": []
   },
   "outputs": [
    {
     "ename": "SyntaxError",
     "evalue": "invalid syntax (2213665331.py, line 5)",
     "output_type": "error",
     "traceback": [
      "\u001b[0;36m  Cell \u001b[0;32mIn[16], line 5\u001b[0;36m\u001b[0m\n\u001b[0;31m    Display data: Data from the database\u001b[0m\n\u001b[0m            ^\u001b[0m\n\u001b[0;31mSyntaxError\u001b[0m\u001b[0;31m:\u001b[0m invalid syntax\n"
     ]
    }
   ],
   "source": [
    ">>> from app_dip import API, Database, FrontEnd\n",
    "\n",
    ">>> db_front_end = FrontEnd(Database())\n",
    ">>> db_front_end.display_data()\n",
    "Display data: Data from the database\n",
    "\n",
    ">>> api_front_end = FrontEnd(API())\n",
    ">>> api_front_end.display_data()\n",
    "Display data: Data from the API\n"
   ]
  }
 ],
 "metadata": {
  "kernelspec": {
   "display_name": "Python 3 (ipykernel)",
   "language": "python",
   "name": "python3"
  },
  "language_info": {
   "codemirror_mode": {
    "name": "ipython",
    "version": 3
   },
   "file_extension": ".py",
   "mimetype": "text/x-python",
   "name": "python",
   "nbconvert_exporter": "python",
   "pygments_lexer": "ipython3",
   "version": "3.10.11"
  }
 },
 "nbformat": 4,
 "nbformat_minor": 4
}